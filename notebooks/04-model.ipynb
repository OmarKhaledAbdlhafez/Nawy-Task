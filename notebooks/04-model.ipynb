{
 "cells": [
  {
   "cell_type": "code",
   "execution_count": 1,
   "metadata": {
    "collapsed": true,
    "id": "QbSLwFCxIURT"
   },
   "outputs": [],
   "source": [
    "import numpy as np\n",
    "import pandas as pd \n",
    "from collections import Counter\n",
    "from sklearn.preprocessing import LabelEncoder \n",
    "from sklearn.model_selection import train_test_split\n",
    "from sklearn.tree import DecisionTreeClassifier\n",
    "from sklearn.ensemble import RandomForestClassifier\n",
    "from sklearn.metrics import classification_report ,balanced_accuracy_score\n",
    "from imblearn.under_sampling import RandomUnderSampler\n",
    "from imblearn.ensemble import BalancedRandomForestClassifier\n",
    "from imblearn.over_sampling import SMOTE\n",
    "from imblearn.pipeline import Pipeline"
   ]
  },
  {
   "cell_type": "code",
   "execution_count": 2,
   "metadata": {
    "collapsed": true,
    "id": "SV93rqBTIpKW"
   },
   "outputs": [],
   "source": [
    "df = pd.read_csv('..\\datasets\\clean-dataset.csv')"
   ]
  },
  {
   "cell_type": "code",
   "execution_count": 3,
   "metadata": {
    "colab": {
     "base_uri": "https://localhost:8080/"
    },
    "id": "YH3NtaHvIvDE",
    "outputId": "e605712a-9d9c-450d-caf2-4ce785e6fa59"
   },
   "outputs": [
    {
     "data": {
      "text/plain": [
       "(91121, 10)"
      ]
     },
     "execution_count": 3,
     "metadata": {},
     "output_type": "execute_result"
    }
   ],
   "source": [
    "df.shape"
   ]
  },
  {
   "cell_type": "markdown",
   "metadata": {
    "id": "Z6aGlTiDch5v"
   },
   "source": [
    "**check for any nan vlaues and drop all of them**"
   ]
  },
  {
   "cell_type": "code",
   "execution_count": 4,
   "metadata": {
    "colab": {
     "base_uri": "https://localhost:8080/"
    },
    "id": "fN7-vCv_J9fJ",
    "outputId": "f912233e-cd88-4b2d-c339-89f48d7db170"
   },
   "outputs": [
    {
     "data": {
      "text/plain": [
       "Unnamed: 0               0\n",
       "lead_mobile_network      0\n",
       "method_of_contact        0\n",
       "ad_group                72\n",
       "lead_source              0\n",
       "campaign               780\n",
       "low_qualified            0\n",
       "month                    0\n",
       "year                     0\n",
       "day                      0\n",
       "dtype: int64"
      ]
     },
     "execution_count": 4,
     "metadata": {},
     "output_type": "execute_result"
    }
   ],
   "source": [
    "df.isna().sum()"
   ]
  },
  {
   "cell_type": "code",
   "execution_count": 5,
   "metadata": {
    "collapsed": true,
    "id": "iE9YrZMrKCuz"
   },
   "outputs": [],
   "source": [
    "df.dropna(inplace=True)"
   ]
  },
  {
   "cell_type": "markdown",
   "metadata": {
    "id": "aNQrA7Y3cqyU"
   },
   "source": [
    "# Feature Engineering \n",
    "**use label encoding to encode all categorical data into numbers in many times using one hot encoding is better as when u use label encoding model may understand that 4 is big than 2 and we don't need that but one hot encoding will make our data has big number of dimensions so i will use label encoding to save dimensions number and get the advantage of tree based model which can work will with categorical data also don't need to normalize or scaling data**"
   ]
  },
  {
   "cell_type": "code",
   "execution_count": 6,
   "metadata": {
    "collapsed": true,
    "id": "YBzkgPh4Izs8"
   },
   "outputs": [],
   "source": [
    "cat_cols = ['lead_mobile_network', 'method_of_contact', 'ad_group','lead_source', 'campaign']\n",
    "le = LabelEncoder()\n",
    "df[cat_cols]=df[cat_cols].apply(le.fit_transform)"
   ]
  },
  {
   "cell_type": "code",
   "execution_count": 7,
   "metadata": {
    "colab": {
     "base_uri": "https://localhost:8080/",
     "height": 206
    },
    "id": "ge1XPRySJP3V",
    "outputId": "7d63d265-cdcf-4e8f-9506-27e61f5b56bf"
   },
   "outputs": [
    {
     "data": {
      "text/html": [
       "<div>\n",
       "<style scoped>\n",
       "    .dataframe tbody tr th:only-of-type {\n",
       "        vertical-align: middle;\n",
       "    }\n",
       "\n",
       "    .dataframe tbody tr th {\n",
       "        vertical-align: top;\n",
       "    }\n",
       "\n",
       "    .dataframe thead th {\n",
       "        text-align: right;\n",
       "    }\n",
       "</style>\n",
       "<table border=\"1\" class=\"dataframe\">\n",
       "  <thead>\n",
       "    <tr style=\"text-align: right;\">\n",
       "      <th></th>\n",
       "      <th>Unnamed: 0</th>\n",
       "      <th>lead_mobile_network</th>\n",
       "      <th>method_of_contact</th>\n",
       "      <th>ad_group</th>\n",
       "      <th>lead_source</th>\n",
       "      <th>campaign</th>\n",
       "      <th>low_qualified</th>\n",
       "      <th>month</th>\n",
       "      <th>year</th>\n",
       "      <th>day</th>\n",
       "    </tr>\n",
       "  </thead>\n",
       "  <tbody>\n",
       "    <tr>\n",
       "      <th>0</th>\n",
       "      <td>0</td>\n",
       "      <td>3</td>\n",
       "      <td>3</td>\n",
       "      <td>3</td>\n",
       "      <td>4</td>\n",
       "      <td>0</td>\n",
       "      <td>0</td>\n",
       "      <td>3</td>\n",
       "      <td>2022</td>\n",
       "      <td>7</td>\n",
       "    </tr>\n",
       "    <tr>\n",
       "      <th>1</th>\n",
       "      <td>1</td>\n",
       "      <td>6</td>\n",
       "      <td>2</td>\n",
       "      <td>1</td>\n",
       "      <td>2</td>\n",
       "      <td>2</td>\n",
       "      <td>0</td>\n",
       "      <td>9</td>\n",
       "      <td>2019</td>\n",
       "      <td>16</td>\n",
       "    </tr>\n",
       "    <tr>\n",
       "      <th>2</th>\n",
       "      <td>2</td>\n",
       "      <td>6</td>\n",
       "      <td>3</td>\n",
       "      <td>1</td>\n",
       "      <td>4</td>\n",
       "      <td>2</td>\n",
       "      <td>0</td>\n",
       "      <td>5</td>\n",
       "      <td>2022</td>\n",
       "      <td>7</td>\n",
       "    </tr>\n",
       "    <tr>\n",
       "      <th>3</th>\n",
       "      <td>3</td>\n",
       "      <td>3</td>\n",
       "      <td>2</td>\n",
       "      <td>1</td>\n",
       "      <td>2</td>\n",
       "      <td>0</td>\n",
       "      <td>0</td>\n",
       "      <td>12</td>\n",
       "      <td>2019</td>\n",
       "      <td>19</td>\n",
       "    </tr>\n",
       "    <tr>\n",
       "      <th>4</th>\n",
       "      <td>4</td>\n",
       "      <td>6</td>\n",
       "      <td>3</td>\n",
       "      <td>3</td>\n",
       "      <td>4</td>\n",
       "      <td>1</td>\n",
       "      <td>0</td>\n",
       "      <td>1</td>\n",
       "      <td>2022</td>\n",
       "      <td>27</td>\n",
       "    </tr>\n",
       "  </tbody>\n",
       "</table>\n",
       "</div>"
      ],
      "text/plain": [
       "   Unnamed: 0  lead_mobile_network  method_of_contact  ad_group  lead_source  \\\n",
       "0           0                    3                  3         3            4   \n",
       "1           1                    6                  2         1            2   \n",
       "2           2                    6                  3         1            4   \n",
       "3           3                    3                  2         1            2   \n",
       "4           4                    6                  3         3            4   \n",
       "\n",
       "   campaign  low_qualified  month  year  day  \n",
       "0         0              0      3  2022    7  \n",
       "1         2              0      9  2019   16  \n",
       "2         2              0      5  2022    7  \n",
       "3         0              0     12  2019   19  \n",
       "4         1              0      1  2022   27  "
      ]
     },
     "execution_count": 7,
     "metadata": {},
     "output_type": "execute_result"
    }
   ],
   "source": [
    "df.head()"
   ]
  },
  {
   "cell_type": "code",
   "execution_count": 8,
   "metadata": {
    "colab": {
     "base_uri": "https://localhost:8080/"
    },
    "id": "AxhVAIFuJXkD",
    "outputId": "9f1765bb-d080-491e-ad10-987e3803f9ef"
   },
   "outputs": [
    {
     "name": "stdout",
     "output_type": "stream",
     "text": [
      "<class 'pandas.core.frame.DataFrame'>\n",
      "Int64Index: 90290 entries, 0 to 91120\n",
      "Data columns (total 10 columns):\n",
      " #   Column               Non-Null Count  Dtype\n",
      "---  ------               --------------  -----\n",
      " 0   Unnamed: 0           90290 non-null  int64\n",
      " 1   lead_mobile_network  90290 non-null  int32\n",
      " 2   method_of_contact    90290 non-null  int32\n",
      " 3   ad_group             90290 non-null  int32\n",
      " 4   lead_source          90290 non-null  int32\n",
      " 5   campaign             90290 non-null  int32\n",
      " 6   low_qualified        90290 non-null  int64\n",
      " 7   month                90290 non-null  int64\n",
      " 8   year                 90290 non-null  int64\n",
      " 9   day                  90290 non-null  int64\n",
      "dtypes: int32(5), int64(5)\n",
      "memory usage: 5.9 MB\n"
     ]
    }
   ],
   "source": [
    "df.info()"
   ]
  },
  {
   "cell_type": "code",
   "execution_count": 9,
   "metadata": {
    "collapsed": true,
    "id": "lXarK_LhJeNo"
   },
   "outputs": [],
   "source": [
    "data = df.drop(['low_qualified','Unnamed: 0'],axis=1)\n",
    "target = df['low_qualified']"
   ]
  },
  {
   "cell_type": "code",
   "execution_count": 10,
   "metadata": {
    "colab": {
     "base_uri": "https://localhost:8080/"
    },
    "id": "2741YZQiKcAk",
    "outputId": "21790b5f-949d-45c5-aa5f-5aa97a8f77c5"
   },
   "outputs": [
    {
     "data": {
      "text/plain": [
       "0    74454\n",
       "1    15836\n",
       "Name: low_qualified, dtype: int64"
      ]
     },
     "execution_count": 10,
     "metadata": {},
     "output_type": "execute_result"
    }
   ],
   "source": [
    "target.value_counts()"
   ]
  },
  {
   "cell_type": "markdown",
   "metadata": {
    "id": "CYyXHEh4d6gO"
   },
   "source": [
    "**split data into train an split**"
   ]
  },
  {
   "cell_type": "code",
   "execution_count": 11,
   "metadata": {
    "collapsed": true,
    "id": "lG58hKJTKb9R"
   },
   "outputs": [],
   "source": [
    "x_train, x_test, y_train, y_test = train_test_split(data, target, test_size=0.2, random_state=42)"
   ]
  },
  {
   "cell_type": "markdown",
   "metadata": {
    "id": "zQE4wSTqKv74"
   },
   "source": [
    "# baseline model\n",
    "**bulid simple model without any addition **"
   ]
  },
  {
   "cell_type": "code",
   "execution_count": 12,
   "metadata": {
    "colab": {
     "base_uri": "https://localhost:8080/"
    },
    "id": "QsWlFG2pKqI-",
    "outputId": "d53c9463-2eb3-4f0f-a7c1-fbc6b886d54e"
   },
   "outputs": [
    {
     "data": {
      "text/plain": [
       "DecisionTreeClassifier(random_state=42)"
      ]
     },
     "execution_count": 12,
     "metadata": {},
     "output_type": "execute_result"
    }
   ],
   "source": [
    "baseline_dt = DecisionTreeClassifier(random_state=42)\n",
    "baseline_dt.fit(x_train , y_train)"
   ]
  },
  {
   "cell_type": "code",
   "execution_count": 13,
   "metadata": {
    "colab": {
     "base_uri": "https://localhost:8080/"
    },
    "id": "sBVf8-TTLAwF",
    "outputId": "4a945f46-4888-4d77-ad29-0b2409d5ccf0"
   },
   "outputs": [
    {
     "name": "stdout",
     "output_type": "stream",
     "text": [
      "              precision    recall  f1-score   support\n",
      "\n",
      "           0       0.93      0.84      0.88     16348\n",
      "           1       0.20      0.37      0.26      1710\n",
      "\n",
      "    accuracy                           0.80     18058\n",
      "   macro avg       0.56      0.61      0.57     18058\n",
      "weighted avg       0.86      0.80      0.82     18058\n",
      "\n"
     ]
    }
   ],
   "source": [
    "baseline_y_pred= baseline_dt.predict(x_test)\n",
    "print(classification_report(baseline_y_pred, y_test))"
   ]
  },
  {
   "cell_type": "code",
   "execution_count": 14,
   "metadata": {
    "colab": {
     "base_uri": "https://localhost:8080/"
    },
    "id": "FeqPTAkuLLF8",
    "outputId": "f3065d78-b506-4026-ec92-d53668e5bdc0"
   },
   "outputs": [
    {
     "data": {
      "text/plain": [
       "RandomForestClassifier(random_state=42)"
      ]
     },
     "execution_count": 14,
     "metadata": {},
     "output_type": "execute_result"
    }
   ],
   "source": [
    "basline_rf = RandomForestClassifier(random_state=42)\n",
    "basline_rf.fit(x_train , y_train)"
   ]
  },
  {
   "cell_type": "code",
   "execution_count": 15,
   "metadata": {
    "colab": {
     "base_uri": "https://localhost:8080/"
    },
    "id": "mr6vV6q1LYEE",
    "outputId": "7d743346-7d14-45c1-bc49-facb51e5000d"
   },
   "outputs": [
    {
     "name": "stdout",
     "output_type": "stream",
     "text": [
      "              precision    recall  f1-score   support\n",
      "\n",
      "           0       0.93      0.85      0.89     16368\n",
      "           1       0.21      0.40      0.28      1690\n",
      "\n",
      "    accuracy                           0.80     18058\n",
      "   macro avg       0.57      0.62      0.58     18058\n",
      "weighted avg       0.86      0.80      0.83     18058\n",
      "\n"
     ]
    }
   ],
   "source": [
    "y_pred= basline_rf.predict(x_test)\n",
    "print(classification_report(y_pred, y_test))"
   ]
  },
  {
   "cell_type": "markdown",
   "metadata": {
    "id": "xWHfFN3BLhrm"
   },
   "source": [
    "# try sampling methids :\n",
    "\n",
    "\n",
    "*   **under sampling**\n",
    "*   **over sampling using smote**\n",
    "*   **try to make mix between two methods (doing over by ratio then make under sample )**\n",
    "\n",
    "\n",
    "\n",
    "\n",
    "\n"
   ]
  },
  {
   "cell_type": "code",
   "execution_count": 16,
   "metadata": {
    "colab": {
     "base_uri": "https://localhost:8080/"
    },
    "id": "of6SkYDeMKrN",
    "outputId": "e2e8af3d-2821-4717-cd08-93e66e188922"
   },
   "outputs": [
    {
     "name": "stdout",
     "output_type": "stream",
     "text": [
      "[(0, 12640), (1, 12640)]\n"
     ]
    }
   ],
   "source": [
    "rus = RandomUnderSampler(random_state=42)\n",
    "x_resampled, y_resampled = rus.fit_resample(x_train, y_train)\n",
    "print(sorted(Counter(y_resampled).items()))"
   ]
  },
  {
   "cell_type": "code",
   "execution_count": 17,
   "metadata": {
    "colab": {
     "base_uri": "https://localhost:8080/"
    },
    "id": "t3YC5AAsMU2R",
    "outputId": "5bdb3c66-2349-4674-b07b-bc16bde6c90a"
   },
   "outputs": [
    {
     "name": "stdout",
     "output_type": "stream",
     "text": [
      "              precision    recall  f1-score   support\n",
      "\n",
      "           0       0.63      0.87      0.73     10745\n",
      "           1       0.57      0.25      0.35      7313\n",
      "\n",
      "    accuracy                           0.62     18058\n",
      "   macro avg       0.60      0.56      0.54     18058\n",
      "weighted avg       0.61      0.62      0.58     18058\n",
      "\n"
     ]
    }
   ],
   "source": [
    "undersample_dt = DecisionTreeClassifier()\n",
    "undersample_dt.fit(x_resampled , y_resampled)\n",
    "y_pred= undersample_dt.predict(x_test)\n",
    "print(classification_report(y_pred, y_test))"
   ]
  },
  {
   "cell_type": "code",
   "execution_count": 18,
   "metadata": {
    "colab": {
     "base_uri": "https://localhost:8080/"
    },
    "id": "X9rMCKefMYyy",
    "outputId": "4672267c-88fd-4af7-9ebf-a4d347dcb363"
   },
   "outputs": [
    {
     "name": "stdout",
     "output_type": "stream",
     "text": [
      "              precision    recall  f1-score   support\n",
      "\n",
      "           0       0.61      0.88      0.73     10336\n",
      "           1       0.62      0.26      0.37      7722\n",
      "\n",
      "    accuracy                           0.62     18058\n",
      "   macro avg       0.62      0.57      0.55     18058\n",
      "weighted avg       0.62      0.62      0.57     18058\n",
      "\n"
     ]
    }
   ],
   "source": [
    "undersample_rf = RandomForestClassifier()\n",
    "undersample_rf.fit(x_resampled , y_resampled)\n",
    "y_pred= undersample_rf.predict(x_test)\n",
    "print(classification_report(y_pred, y_test))"
   ]
  },
  {
   "cell_type": "markdown",
   "metadata": {
    "id": "71hNAc8aNN5f"
   },
   "source": [
    "**SMOTE**"
   ]
  },
  {
   "cell_type": "code",
   "execution_count": 19,
   "metadata": {
    "collapsed": true,
    "id": "yD8FvasdNNAt"
   },
   "outputs": [],
   "source": [
    "oversample = SMOTE()\n",
    "x_s, y_s = oversample.fit_resample(x_train, y_train)"
   ]
  },
  {
   "cell_type": "code",
   "execution_count": 20,
   "metadata": {
    "colab": {
     "base_uri": "https://localhost:8080/"
    },
    "id": "en8AdXGENe7K",
    "outputId": "a90d295d-97dc-4b3c-9fd6-c91a04ad16f0"
   },
   "outputs": [
    {
     "name": "stdout",
     "output_type": "stream",
     "text": [
      "              precision    recall  f1-score   support\n",
      "\n",
      "           0       0.72      0.87      0.79     12264\n",
      "           1       0.49      0.27      0.35      5794\n",
      "\n",
      "    accuracy                           0.68     18058\n",
      "   macro avg       0.61      0.57      0.57     18058\n",
      "weighted avg       0.65      0.68      0.65     18058\n",
      "\n"
     ]
    }
   ],
   "source": [
    "oversample_dt = DecisionTreeClassifier()\n",
    "oversample_dt.fit(x_s , y_s)\n",
    "y_pred= oversample_dt.predict(x_test)\n",
    "print(classification_report(y_pred, y_test))"
   ]
  },
  {
   "cell_type": "code",
   "execution_count": 21,
   "metadata": {
    "colab": {
     "base_uri": "https://localhost:8080/"
    },
    "id": "bbw6JK2pNy40",
    "outputId": "f04a1bd0-ac0f-4bac-c6b2-9bf571b08949"
   },
   "outputs": [
    {
     "name": "stdout",
     "output_type": "stream",
     "text": [
      "              precision    recall  f1-score   support\n",
      "\n",
      "           0       0.71      0.87      0.78     12109\n",
      "           1       0.51      0.27      0.35      5949\n",
      "\n",
      "    accuracy                           0.67     18058\n",
      "   macro avg       0.61      0.57      0.57     18058\n",
      "weighted avg       0.64      0.67      0.64     18058\n",
      "\n"
     ]
    }
   ],
   "source": [
    "oversample_rf = RandomForestClassifier()\n",
    "oversample_rf.fit(x_s , y_s)\n",
    "y_pred= oversample_rf.predict(x_test)\n",
    "print(classification_report(y_pred, y_test))"
   ]
  },
  {
   "cell_type": "markdown",
   "metadata": {
    "id": "4sVOBdfZOIHi"
   },
   "source": [
    "**try both over and under sampling**"
   ]
  },
  {
   "cell_type": "code",
   "execution_count": 23,
   "metadata": {
    "colab": {
     "base_uri": "https://localhost:8080/"
    },
    "id": "nFgFHS8mOHEJ",
    "outputId": "8abcb81f-b163-4dea-9888-3e49243b61c0"
   },
   "outputs": [
    {
     "data": {
      "text/plain": [
       "Counter({0: 29796, 1: 29796})"
      ]
     },
     "execution_count": 23,
     "metadata": {},
     "output_type": "execute_result"
    }
   ],
   "source": [
    "over = SMOTE(sampling_strategy=0.5)\n",
    "under = RandomUnderSampler()\n",
    "steps = [('o', over), ('u', under)]\n",
    "pipeline = Pipeline(steps=steps)\n",
    "x_pipe, y_pipe = pipeline.fit_resample(x_train, y_train)\n",
    "Counter(y_pipe)"
   ]
  },
  {
   "cell_type": "code",
   "execution_count": 24,
   "metadata": {
    "colab": {
     "base_uri": "https://localhost:8080/"
    },
    "id": "UHXeOusVOX6u",
    "outputId": "e265f3e6-9ac4-49b6-ef54-266bba840838"
   },
   "outputs": [
    {
     "name": "stdout",
     "output_type": "stream",
     "text": [
      "              precision    recall  f1-score   support\n",
      "\n",
      "           0       0.68      0.87      0.76     11743\n",
      "           1       0.51      0.26      0.34      6315\n",
      "\n",
      "    accuracy                           0.65     18058\n",
      "   macro avg       0.60      0.56      0.55     18058\n",
      "weighted avg       0.62      0.65      0.62     18058\n",
      "\n"
     ]
    }
   ],
   "source": [
    "dt = DecisionTreeClassifier()\n",
    "dt.fit(x_pipe , y_pipe)\n",
    "y_pred= dt.predict(x_test)\n",
    "print(classification_report(y_pred, y_test))"
   ]
  },
  {
   "cell_type": "code",
   "execution_count": 25,
   "metadata": {
    "colab": {
     "base_uri": "https://localhost:8080/"
    },
    "id": "xW-icGwiOqhM",
    "outputId": "01dd6be2-ee93-4a99-823a-df96b7a33e4c"
   },
   "outputs": [
    {
     "name": "stdout",
     "output_type": "stream",
     "text": [
      "              precision    recall  f1-score   support\n",
      "\n",
      "           0       0.68      0.87      0.76     11526\n",
      "           1       0.53      0.26      0.35      6532\n",
      "\n",
      "    accuracy                           0.65     18058\n",
      "   macro avg       0.60      0.57      0.56     18058\n",
      "weighted avg       0.62      0.65      0.61     18058\n",
      "\n"
     ]
    }
   ],
   "source": [
    "rf = RandomForestClassifier()\n",
    "rf.fit(x_pipe , y_pipe)\n",
    "y_pred= rf.predict(x_test)\n",
    "print(classification_report(y_pred, y_test))"
   ]
  },
  {
   "cell_type": "markdown",
   "metadata": {
    "id": "hXKCUJEsPLdQ"
   },
   "source": [
    "# class wieght"
   ]
  },
  {
   "cell_type": "code",
   "execution_count": 26,
   "metadata": {
    "colab": {
     "base_uri": "https://localhost:8080/"
    },
    "id": "WA9D3BlOPLBN",
    "outputId": "c9692fce-5965-454f-c3f6-908fff645d7a"
   },
   "outputs": [
    {
     "name": "stdout",
     "output_type": "stream",
     "text": [
      "              precision    recall  f1-score   support\n",
      "\n",
      "           0       0.78      0.87      0.82     13348\n",
      "           1       0.44      0.30      0.36      4710\n",
      "\n",
      "    accuracy                           0.72     18058\n",
      "   macro avg       0.61      0.58      0.59     18058\n",
      "weighted avg       0.69      0.72      0.70     18058\n",
      "\n"
     ]
    }
   ],
   "source": [
    "rf = RandomForestClassifier(random_state=42, class_weight='balanced')\n",
    "rf.fit(x_train , y_train)\n",
    "y_pred= rf.predict(x_test)\n",
    "print(classification_report(y_pred, y_test))"
   ]
  },
  {
   "cell_type": "markdown",
   "metadata": {
    "id": "iDfbjKKePac3"
   },
   "source": [
    "# BalancedRandomForestClassifier\n"
   ]
  },
  {
   "cell_type": "code",
   "execution_count": 27,
   "metadata": {
    "colab": {
     "base_uri": "https://localhost:8080/"
    },
    "id": "jocx8pplPZ5L",
    "outputId": "6172957b-cf13-42bb-ad1a-74120b50595b"
   },
   "outputs": [
    {
     "name": "stdout",
     "output_type": "stream",
     "text": [
      "              precision    recall  f1-score   support\n",
      "\n",
      "           0       0.61      0.89      0.72     10116\n",
      "           1       0.65      0.26      0.37      7942\n",
      "\n",
      "    accuracy                           0.61     18058\n",
      "   macro avg       0.63      0.58      0.55     18058\n",
      "weighted avg       0.63      0.61      0.57     18058\n",
      "\n"
     ]
    }
   ],
   "source": [
    "brf = BalancedRandomForestClassifier()\n",
    "brf.fit(x_train, y_train) \n",
    "y_pred = brf.predict(x_test)\n",
    "print(classification_report(y_pred, y_test))"
   ]
  },
  {
   "cell_type": "markdown",
   "metadata": {
    "id": "t1P3Xaziadv0"
   },
   "source": [
    "# Threshold moving"
   ]
  },
  {
   "cell_type": "code",
   "execution_count": 28,
   "metadata": {},
   "outputs": [
    {
     "data": {
      "text/plain": [
       "array([[0.80833333, 0.19166667],\n",
       "       [0.85932445, 0.14067555],\n",
       "       [0.99571429, 0.00428571],\n",
       "       ...,\n",
       "       [1.        , 0.        ],\n",
       "       [0.26858888, 0.73141112],\n",
       "       [0.98833333, 0.01166667]])"
      ]
     },
     "execution_count": 28,
     "metadata": {},
     "output_type": "execute_result"
    }
   ],
   "source": [
    "from sklearn.ensemble import RandomForestClassifier\n",
    "rf_model = RandomForestClassifier()\n",
    "rf_model.fit(x_train,y_train)   \n",
    "rf_model.predict_proba(x_test)"
   ]
  },
  {
   "cell_type": "code",
   "execution_count": 30,
   "metadata": {},
   "outputs": [
    {
     "name": "stdout",
     "output_type": "stream",
     "text": [
      "Threshold 0.2 -- 0.6185160674702885\n",
      "Threshold 0.25 -- 0.6080902584966507\n",
      "Threshold 0.3 -- 0.6009819121903994\n",
      "Threshold 0.35 -- 0.5895454072334059\n",
      "Threshold 0.39999999999999997 -- 0.5832634160012625\n",
      "Threshold 0.44999999999999996 -- 0.5758544525361318\n",
      "Threshold 0.49999999999999994 -- 0.5692933393562031\n",
      "Threshold 0.5499999999999999 -- 0.5645828354276111\n",
      "Threshold 0.6 -- 0.5598842264983025\n",
      "Threshold 0.65 -- 0.5534360631788254\n",
      "Threshold 0.7000000000000001 -- 0.5461687028379069\n",
      "Threshold 0.7500000000000001 -- 0.539421206598411\n",
      "---Optimum Threshold --- 0.2 --ROC-- 0.6185160674702885\n"
     ]
    }
   ],
   "source": [
    "from sklearn.metrics import roc_auc_score\n",
    "threshold_value = 0.2 \n",
    "roc_score=0\n",
    "predicted_proba = rf_model.predict_proba(x_test) #probability of prediction\n",
    "while threshold_value <=0.8: #continue to check best threshold upto probability 0.8\n",
    "    temp_thresh = threshold_value\n",
    "    predicted = (predicted_proba [:,1] >= temp_thresh).astype('int') #change the class boundary for prediction\n",
    "    print('Threshold',temp_thresh,'--',roc_auc_score(y_test, predicted))\n",
    "    if roc_score<roc_auc_score(y_test, predicted): #store the threshold for best classification\n",
    "        roc_score = roc_auc_score(y_test, predicted)\n",
    "        thrsh_score = threshold_value\n",
    "    threshold_value = threshold_value + 0.05\n",
    "print('---Optimum Threshold ---',thrsh_score,'--ROC--',roc_score)"
   ]
  },
  {
   "cell_type": "code",
   "execution_count": null,
   "metadata": {
    "collapsed": true
   },
   "outputs": [],
   "source": []
  }
 ],
 "metadata": {
  "colab": {
   "name": "04-model.ipynb",
   "provenance": []
  },
  "kernelspec": {
   "display_name": "Python 3",
   "language": "python",
   "name": "python3"
  },
  "language_info": {
   "codemirror_mode": {
    "name": "ipython",
    "version": 3
   },
   "file_extension": ".py",
   "mimetype": "text/x-python",
   "name": "python",
   "nbconvert_exporter": "python",
   "pygments_lexer": "ipython3",
   "version": "3.6.2"
  }
 },
 "nbformat": 4,
 "nbformat_minor": 1
}
