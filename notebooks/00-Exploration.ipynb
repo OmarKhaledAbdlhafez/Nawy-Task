{
 "cells": [
  {
   "cell_type": "code",
   "execution_count": 1,
   "metadata": {
    "collapsed": true
   },
   "outputs": [],
   "source": [
    "import numpy as np \n",
    "import pandas as pd "
   ]
  },
  {
   "cell_type": "code",
   "execution_count": 2,
   "metadata": {},
   "outputs": [
    {
     "name": "stderr",
     "output_type": "stream",
     "text": [
      "C:\\Anaconda3\\lib\\site-packages\\IPython\\core\\interactiveshell.py:2698: DtypeWarning: Columns (11) have mixed types. Specify dtype option on import or set low_memory=False.\n",
      "  interactivity=interactivity, compiler=compiler, result=result)\n"
     ]
    }
   ],
   "source": [
    "df = pd.read_csv('..\\datasets\\dataset.csv')"
   ]
  },
  {
   "cell_type": "code",
   "execution_count": 15,
   "metadata": {},
   "outputs": [
    {
     "data": {
      "text/html": [
       "<div>\n",
       "<style>\n",
       "    .dataframe thead tr:only-child th {\n",
       "        text-align: right;\n",
       "    }\n",
       "\n",
       "    .dataframe thead th {\n",
       "        text-align: left;\n",
       "    }\n",
       "\n",
       "    .dataframe tbody tr th {\n",
       "        vertical-align: top;\n",
       "    }\n",
       "</style>\n",
       "<table border=\"1\" class=\"dataframe\">\n",
       "  <thead>\n",
       "    <tr style=\"text-align: right;\">\n",
       "      <th></th>\n",
       "      <th>lead_id</th>\n",
       "      <th>customer_name</th>\n",
       "      <th>lead_mobile_network</th>\n",
       "      <th>message</th>\n",
       "      <th>lead_time</th>\n",
       "      <th>method_of_contact</th>\n",
       "      <th>ad_group</th>\n",
       "      <th>lead_source</th>\n",
       "      <th>campaign</th>\n",
       "      <th>location</th>\n",
       "      <th>low_qualified</th>\n",
       "      <th>Unnamed: 11</th>\n",
       "      <th>Unnamed: 12</th>\n",
       "    </tr>\n",
       "  </thead>\n",
       "  <tbody>\n",
       "    <tr>\n",
       "      <th>89122</th>\n",
       "      <td>98640</td>\n",
       "      <td>Nona Mody</td>\n",
       "      <td>Gulf</td>\n",
       "      <td>ad_id : 23850279525690562 \\nadgroup_id : 23850...</td>\n",
       "      <td>2022-05-29 11:53:23.285069</td>\n",
       "      <td>facebook</td>\n",
       "      <td>the lakes bloomfields - khaleeji lookalike</td>\n",
       "      <td>facebook</td>\n",
       "      <td>tatweer misr - lead generation - cooing 2 - new</td>\n",
       "      <td>mostakbal city villa offer</td>\n",
       "      <td>0</td>\n",
       "      <td>NaN</td>\n",
       "      <td>NaN</td>\n",
       "    </tr>\n",
       "    <tr>\n",
       "      <th>75596</th>\n",
       "      <td>85280</td>\n",
       "      <td>Mohamed Abdelaziz</td>\n",
       "      <td>Orange</td>\n",
       "      <td>ad_id : 23849947498900398 \\nadgroup_id : 23849...</td>\n",
       "      <td>2022-04-15 00:23:10.894150</td>\n",
       "      <td>facebook</td>\n",
       "      <td>october plaza - general audience with north co...</td>\n",
       "      <td>facebook</td>\n",
       "      <td>sodic - lead generation - new - cooing 3</td>\n",
       "      <td>october plaza</td>\n",
       "      <td>0</td>\n",
       "      <td>NaN</td>\n",
       "      <td>NaN</td>\n",
       "    </tr>\n",
       "    <tr>\n",
       "      <th>25017</th>\n",
       "      <td>37715</td>\n",
       "      <td>Heba Abd Elrahman</td>\n",
       "      <td>Vodafone</td>\n",
       "      <td>ad_id : 23848376577080398 \\nadgroup_id : 23848...</td>\n",
       "      <td>2021-09-09 13:38:13.081556</td>\n",
       "      <td>facebook</td>\n",
       "      <td>district 5 - 2-congrats+reserved+blocked+eoi l...</td>\n",
       "      <td>facebook</td>\n",
       "      <td>marakez - lead generation - cooing 3</td>\n",
       "      <td>district 5</td>\n",
       "      <td>0</td>\n",
       "      <td>NaN</td>\n",
       "      <td>NaN</td>\n",
       "    </tr>\n",
       "    <tr>\n",
       "      <th>82776</th>\n",
       "      <td>92148</td>\n",
       "      <td>Yaseen Elhadad</td>\n",
       "      <td>Gulf</td>\n",
       "      <td>ad_id : 23849120273630398 \\nadgroup_id : 23849...</td>\n",
       "      <td>2022-05-09 07:06:05.835010</td>\n",
       "      <td>facebook</td>\n",
       "      <td>v residence - khaleeji lookallike</td>\n",
       "      <td>facebook</td>\n",
       "      <td>sodic - lead generation - new - cooing 3</td>\n",
       "      <td>v residence</td>\n",
       "      <td>0</td>\n",
       "      <td>NaN</td>\n",
       "      <td>NaN</td>\n",
       "    </tr>\n",
       "    <tr>\n",
       "      <th>46822</th>\n",
       "      <td>59253</td>\n",
       "      <td>Hamed Elbahnasy</td>\n",
       "      <td>Vodafone</td>\n",
       "      <td>I would like more information on Al Burouj - 3...</td>\n",
       "      <td>2021-11-13 13:41:14.903247</td>\n",
       "      <td>whatsapp</td>\n",
       "      <td>none</td>\n",
       "      <td>website</td>\n",
       "      <td>none</td>\n",
       "      <td>al burouj</td>\n",
       "      <td>0</td>\n",
       "      <td>NaN</td>\n",
       "      <td>NaN</td>\n",
       "    </tr>\n",
       "  </tbody>\n",
       "</table>\n",
       "</div>"
      ],
      "text/plain": [
       "       lead_id      customer_name lead_mobile_network  \\\n",
       "89122    98640          Nona Mody                Gulf   \n",
       "75596    85280  Mohamed Abdelaziz              Orange   \n",
       "25017    37715  Heba Abd Elrahman            Vodafone   \n",
       "82776    92148     Yaseen Elhadad                Gulf   \n",
       "46822    59253    Hamed Elbahnasy            Vodafone   \n",
       "\n",
       "                                                 message  \\\n",
       "89122  ad_id : 23850279525690562 \\nadgroup_id : 23850...   \n",
       "75596  ad_id : 23849947498900398 \\nadgroup_id : 23849...   \n",
       "25017  ad_id : 23848376577080398 \\nadgroup_id : 23848...   \n",
       "82776  ad_id : 23849120273630398 \\nadgroup_id : 23849...   \n",
       "46822  I would like more information on Al Burouj - 3...   \n",
       "\n",
       "                        lead_time method_of_contact  \\\n",
       "89122  2022-05-29 11:53:23.285069          facebook   \n",
       "75596  2022-04-15 00:23:10.894150          facebook   \n",
       "25017  2021-09-09 13:38:13.081556          facebook   \n",
       "82776  2022-05-09 07:06:05.835010          facebook   \n",
       "46822  2021-11-13 13:41:14.903247          whatsapp   \n",
       "\n",
       "                                                ad_group lead_source  \\\n",
       "89122         the lakes bloomfields - khaleeji lookalike    facebook   \n",
       "75596  october plaza - general audience with north co...    facebook   \n",
       "25017  district 5 - 2-congrats+reserved+blocked+eoi l...    facebook   \n",
       "82776                  v residence - khaleeji lookallike    facebook   \n",
       "46822                                               none     website   \n",
       "\n",
       "                                              campaign  \\\n",
       "89122  tatweer misr - lead generation - cooing 2 - new   \n",
       "75596         sodic - lead generation - new - cooing 3   \n",
       "25017             marakez - lead generation - cooing 3   \n",
       "82776         sodic - lead generation - new - cooing 3   \n",
       "46822                                             none   \n",
       "\n",
       "                         location low_qualified Unnamed: 11  Unnamed: 12  \n",
       "89122  mostakbal city villa offer             0         NaN          NaN  \n",
       "75596               october plaza             0         NaN          NaN  \n",
       "25017                  district 5             0         NaN          NaN  \n",
       "82776                 v residence             0         NaN          NaN  \n",
       "46822                   al burouj             0         NaN          NaN  "
      ]
     },
     "execution_count": 15,
     "metadata": {},
     "output_type": "execute_result"
    }
   ],
   "source": [
    "df.sample(5)"
   ]
  },
  {
   "cell_type": "code",
   "execution_count": 16,
   "metadata": {},
   "outputs": [
    {
     "name": "stdout",
     "output_type": "stream",
     "text": [
      "<class 'pandas.core.frame.DataFrame'>\n",
      "RangeIndex: 91129 entries, 0 to 91128\n",
      "Data columns (total 13 columns):\n",
      "lead_id                91129 non-null int64\n",
      "customer_name          91129 non-null object\n",
      "lead_mobile_network    91128 non-null object\n",
      "message                89091 non-null object\n",
      "lead_time              91129 non-null object\n",
      "method_of_contact      91129 non-null object\n",
      "ad_group               91057 non-null object\n",
      "lead_source            91129 non-null object\n",
      "campaign               90349 non-null object\n",
      "location               90980 non-null object\n",
      "low_qualified          91129 non-null object\n",
      "Unnamed: 11            8 non-null object\n",
      "Unnamed: 12            1 non-null float64\n",
      "dtypes: float64(1), int64(1), object(11)\n",
      "memory usage: 9.0+ MB\n"
     ]
    }
   ],
   "source": [
    "df.info()"
   ]
  },
  {
   "cell_type": "code",
   "execution_count": 5,
   "metadata": {},
   "outputs": [
    {
     "data": {
      "text/plain": [
       "0"
      ]
     },
     "execution_count": 5,
     "metadata": {},
     "output_type": "execute_result"
    }
   ],
   "source": [
    "df.duplicated().sum()"
   ]
  },
  {
   "cell_type": "code",
   "execution_count": 6,
   "metadata": {},
   "outputs": [
    {
     "data": {
      "text/plain": [
       "Vodafone    39046\n",
       "Orange      18071\n",
       "Etisalat    16462\n",
       "Gulf        12070\n",
       "Others       2422\n",
       "US_Canda     1149\n",
       "Europe       1025\n",
       "WE            881\n",
       "hykjghk         1\n",
       "?               1\n",
       "Name: lead_mobile_network, dtype: int64"
      ]
     },
     "execution_count": 6,
     "metadata": {},
     "output_type": "execute_result"
    }
   ],
   "source": [
    "df['lead_mobile_network'].value_counts()"
   ]
  },
  {
   "cell_type": "code",
   "execution_count": 19,
   "metadata": {},
   "outputs": [
    {
     "data": {
      "text/plain": [
       "47517    ad_id : 23849640672210540 \\nadgroup_id : 23849...\n",
       "Name: message, dtype: object"
      ]
     },
     "execution_count": 19,
     "metadata": {},
     "output_type": "execute_result"
    }
   ],
   "source": [
    "df['message'].sample()"
   ]
  },
  {
   "cell_type": "code",
   "execution_count": 20,
   "metadata": {},
   "outputs": [
    {
     "data": {
      "text/plain": [
       "facebook                                                                                                                                                                                                                                                                                                                                                                                     48649\n",
       "generic form                                                                                                                                                                                                                                                                                                                                                                                  9966\n",
       "whatsapp                                                                                                                                                                                                                                                                                                                                                                                      8444\n",
       "phone                                                                                                                                                                                                                                                                                                                                                                                         7877\n",
       "top compounds form                                                                                                                                                                                                                                                                                                                                                                            5768\n",
       "organic form                                                                                                                                                                                                                                                                                                                                                                                  2388\n",
       "personal                                                                                                                                                                                                                                                                                                                                                                                      1668\n",
       "website                                                                                                                                                                                                                                                                                                                                                                                       1024\n",
       "form adwords                                                                                                                                                                                                                                                                                                                                                                                   826\n",
       "app                                                                                                                                                                                                                                                                                                                                                                                            817\n",
       "google                                                                                                                                                                                                                                                                                                                                                                                         768\n",
       "vodafone                                                                                                                                                                                                                                                                                                                                                                                       662\n",
       "facebook comment                                                                                                                                                                                                                                                                                                                                                                               381\n",
       "l.facebook.com                                                                                                                                                                                                                                                                                                                                                                                 236\n",
       "client referral                                                                                                                                                                                                                                                                                                                                                                                203\n",
       "facebook messenger                                                                                                                                                                                                                                                                                                                                                                             194\n",
       "organic form direct                                                                                                                                                                                                                                                                                                                                                                            158\n",
       "intercom                                                                                                                                                                                                                                                                                                                                                                                       152\n",
       "facebook page referral                                                                                                                                                                                                                                                                                                                                                                         125\n",
       "personal/rafea                                                                                                                                                                                                                                                                                                                                                                                  81\n",
       "facebook message                                                                                                                                                                                                                                                                                                                                                                                73\n",
       "generic contact us                                                                                                                                                                                                                                                                                                                                                                              70\n",
       "management referral                                                                                                                                                                                                                                                                                                                                                                             66\n",
       "top component form                                                                                                                                                                                                                                                                                                                                                                              43\n",
       "personal/ghanima                                                                                                                                                                                                                                                                                                                                                                                42\n",
       "bing.com                                                                                                                                                                                                                                                                                                                                                                                        31\n",
       "type form                                                                                                                                                                                                                                                                                                                                                                                       28\n",
       "call center resale                                                                                                                                                                                                                                                                                                                                                                              27\n",
       "cold call                                                                                                                                                                                                                                                                                                                                                                                       26\n",
       "instagram messenger                                                                                                                                                                                                                                                                                                                                                                             21\n",
       "                                                                                                                                                                                                                                                                                                                                                                                             ...  \n",
       "console.firebase.google.com                                                                                                                                                                                                                                                                                                                                                                      1\n",
       "ampproject.org                                                                                                                                                                                                                                                                                                                                                                                   1\n",
       "social buildingz campaign                                                                                                                                                                                                                                                                                                                                                                        1\n",
       "(none)                                                                                                                                                                                                                                                                                                                                                                                           1\n",
       "personal/refae                                                                                                                                                                                                                                                                                                                                                                                   1\n",
       " https://savedelete.com/finance/how-did-binance-become-the-largest-exchange/347473/ https://techlogitic.net/what-is-the-most-powerful-portable-charger/ https://expressdigest.com/investigators-will-probe-how-stonehaven-rail-crash-went-unnoticed-due-to-poor-phone-signal/   If you are interested or have any queries please let us know?  Waiting for your kind reply!  Best Regards        1\n",
       "2021-11-14 12:15:48.090683                                                                                                                                                                                                                                                                                                                                                                       1\n",
       "personal - abdel-azim                                                                                                                                                                                                                                                                                                                                                                            1\n",
       "client/referral                                                                                                                                                                                                                                                                                                                                                                                  1\n",
       "egyptinnovate.com                                                                                                                                                                                                                                                                                                                                                                                1\n",
       "int.search.myway.com                                                                                                                                                                                                                                                                                                                                                                             1\n",
       "ca.search.yahoo.com                                                                                                                                                                                                                                                                                                                                                                              1\n",
       "duckduckgo.com                                                                                                                                                                                                                                                                                                                                                                                   1\n",
       "2022-04-15 12:59:05.961885                                                                                                                                                                                                                                                                                                                                                                       1\n",
       "call                                                                                                                                                                                                                                                                                                                                                                                             1\n",
       "management/referral                                                                                                                                                                                                                                                                                                                                                                              1\n",
       "vercel.com                                                                                                                                                                                                                                                                                                                                                                                       1\n",
       "2021-10-05 02:20:12.510749                                                                                                                                                                                                                                                                                                                                                                       1\n",
       "google lead form                                                                                                                                                                                                                                                                                                                                                                                 1\n",
       "2021-11-14 13:33:13.033979                                                                                                                                                                                                                                                                                                                                                                       1\n",
       "test                                                                                                                                                                                                                                                                                                                                                                                             1\n",
       "personal/ gena                                                                                                                                                                                                                                                                                                                                                                                   1\n",
       "personal/refea                                                                                                                                                                                                                                                                                                                                                                                   1\n",
       "residencestyle.com                                                                                                                                                                                                                                                                                                                                                                               1\n",
       "personal aly rafea                                                                                                                                                                                                                                                                                                                                                                               1\n",
       "blogwritr.com                                                                                                                                                                                                                                                                                                                                                                                    1\n",
       "top.criteo.com                                                                                                                                                                                                                                                                                                                                                                                   1\n",
       "personal/reafea                                                                                                                                                                                                                                                                                                                                                                                  1\n",
       "2022-01-09 08:37:11.382320                                                                                                                                                                                                                                                                                                                                                                       1\n",
       "personal/ghanim                                                                                                                                                                                                                                                                                                                                                                                  1\n",
       "Name: method_of_contact, Length: 134, dtype: int64"
      ]
     },
     "execution_count": 20,
     "metadata": {},
     "output_type": "execute_result"
    }
   ],
   "source": [
    "df['method_of_contact'].value_counts()"
   ]
  },
  {
   "cell_type": "code",
   "execution_count": 8,
   "metadata": {},
   "outputs": [
    {
     "data": {
      "text/plain": [
       "none                                                                              39835\n",
       "mountain view october - khaleeji lookalike 3%                                       995\n",
       "mountain view october - general audience with investment/real estate interests      697\n",
       "aura apartments - general audience real estate interests                            550\n",
       "the lakes bloomfields - khaleeji lookalike                                          473\n",
       "il bosco city - real estate interest                                                442\n",
       "il bosco city - khaleeji lookalike                                                  430\n",
       "sodic east - general audience with real estate interests                            389\n",
       "belle vie - general audience real estate interests                                  382\n",
       "o west - western audience                                                           350\n",
       "mivida blue views residences - general audience real estate interests               319\n",
       "marassi - general audience with real estate interests                               318\n",
       "palm hills new cairo - cib, aibk, creme, gouna, congrats                            287\n",
       "village west - villas lookalike 3%                                                  279\n",
       "jefaira - cib lookalike                                                             272\n",
       "marassi - cib, aibk, creme, gouna, congrats                                         263\n",
       "marassi - gouna lookalike                                                           259\n",
       "cairo - giza 30+ soma bay and red sea resorts interests                             247\n",
       "marassi - cib lookalike                                                             241\n",
       "marassi - all congrats lookalike                                                    226\n",
       "noor city - general audience with real estate interests                             223\n",
       "jefaira - general audience with real estate interests                               219\n",
       "the gate - general audience with real estate interests                              219\n",
       "eastown - khaleeji lookalike                                                        218\n",
       "gouna super hed with red sea/beach interests                                        215\n",
       "zed east sawiris pictures                                                           214\n",
       "mazarine - general audience with real estate interests                              205\n",
       "belle vie - general audience with october interests                                 203\n",
       "il bosco city - mega list lookalike 3%                                              202\n",
       "palm hills offer                                                                    198\n",
       "                                                                                  ...  \n",
       "al burouj - general audience with north coast interests                               1\n",
       "bloomfields -high education/ frequent travelers with new cairo interests              1\n",
       "belle vie - 6th of october website visitors                                           1\n",
       "clubside apartments - mega list lookalike 3%                                          1\n",
       "facebook                                                                              1\n",
       "aura cfc - north coast updated lookalike - amany                                      1\n",
       "adset#1                                                                               1\n",
       "nile developments tower - general audience with investment interests                  1\n",
       "zed east super hed with new cairo interests                                           1\n",
       "zed east - december offer - general audience with october interests in gcc            1\n",
       "midtown_sky                                                                           1\n",
       "6ixty_iconic_tower_ar                                                                 1\n",
       "bianchi--oci presentation                                                             1\n",
       "creek town - congrats+reserved+blocked+eoi lookalike                                  1\n",
       "sokhna                                                                                1\n",
       "the city of odyssia - filtered iphone                                                 1\n",
       "badya - mega list                                                                     1\n",
       "badya - mega list lookalike                                                           1\n",
       "mountain view generic - congrats lookalike                                            1\n",
       "aeon frequent international travelers with real estate interests - copy               1\n",
       "new_giza_-_compounds_general                                                          1\n",
       "rivan_square_ar                                                                       1\n",
       "one ninety general audience with commercial interests                                 1\n",
       "june - no targeting 30+ - north coast                                                 1\n",
       "levels business towers - mega list lookalike 3%                                       1\n",
       "bianchi ilios - all owners                                                            1\n",
       "dbay--cib, aibk, creme, gouna, congrats - copy                                        1\n",
       "the_red_hacienda                                                                      1\n",
       "o west - villas lookalike                                                             1\n",
       "real estate - 25+ - ca/gz- instagram                                                  1\n",
       "Name: ad_group, Length: 2480, dtype: int64"
      ]
     },
     "execution_count": 8,
     "metadata": {},
     "output_type": "execute_result"
    }
   ],
   "source": [
    "df['ad_group'].value_counts()"
   ]
  },
  {
   "cell_type": "code",
   "execution_count": 9,
   "metadata": {},
   "outputs": [
    {
     "data": {
      "text/plain": [
       "facebook                                                          51267\n",
       "google                                                            18095\n",
       "website                                                            5184\n",
       "phone                                                              2804\n",
       "personal                                                           1669\n",
       "organic search                                                     1626\n",
       "hotline                                                            1538\n",
       "app                                                                1480\n",
       "google/landing page                                                1303\n",
       "landing page                                                       1147\n",
       "whatsapp                                                            807\n",
       "organic form                                                        769\n",
       "sms                                                                 685\n",
       "vodafone                                                            662\n",
       "unknown                                                             634\n",
       "client referral                                                     203\n",
       "propertyfinder                                                      180\n",
       "intercom                                                            152\n",
       "direct traffic                                                      136\n",
       "personal/rafea                                                       81\n",
       "management referral                                                  66\n",
       "mobile app                                                           61\n",
       "top component form                                                   43\n",
       "personal/ghanima                                                     43\n",
       "google-landing pages                                                 42\n",
       "bing.com                                                             31\n",
       "type form                                                            28\n",
       "call center resale                                                   27\n",
       "cold call                                                            26\n",
       "organic form direct                                                  25\n",
       "                                                                  ...  \n",
       "m.akhbarelyom.com                                                     1\n",
       "youtube.com                                                           1\n",
       "personal abdo                                                         1\n",
       "personal/reafea                                                       1\n",
       "top.criteo.com                                                        1\n",
       "egyptinnovate.com                                                     1\n",
       "club residences -  general audience with real estate interests        1\n",
       "personal aly rafea                                                    1\n",
       "residencestyle.com                                                    1\n",
       "personal/refea                                                        1\n",
       "realestatechamber-eg.com                                              1\n",
       "personal/azzam                                                        1\n",
       "test                                                                  1\n",
       "app.neilpatel.com                                                     1\n",
       "google lead form                                                      1\n",
       "vercel.com                                                            1\n",
       "(none)                                                                1\n",
       "management/referral                                                   1\n",
       "personal - amany                                                      1\n",
       "call                                                                  1\n",
       "whastsapp                                                             1\n",
       "duckduckgo.com                                                        1\n",
       "int.search.myway.com                                                  1\n",
       "management/referral (nada)                                            1\n",
       "console.firebase.google.com                                           1\n",
       "ampproject.org                                                        1\n",
       "personal/location                                                     1\n",
       "social buildingz campaign                                             1\n",
       "omar bebars/referral                                                  1\n",
       "personal/ghanim                                                       1\n",
       "Name: lead_source, Length: 125, dtype: int64"
      ]
     },
     "execution_count": 9,
     "metadata": {},
     "output_type": "execute_result"
    }
   ],
   "source": [
    "df['lead_source'].value_counts()"
   ]
  },
  {
   "cell_type": "code",
   "execution_count": 10,
   "metadata": {},
   "outputs": [
    {
     "data": {
      "text/plain": [
       "none                                                                                21601\n",
       "(none)                                                                               2784\n",
       "google_cpc                                                                           2623\n",
       "mountain view - lead generation - cooing 3                                           1586\n",
       "emaar - lead generation - cooing 3                                                   1431\n",
       "emaar misr - lead generation - cooing 2 - new                                        1428\n",
       "misr italia - lead generation - cooing 1 - new                                       1403\n",
       "sodic - lead generation - new - cooing 3                                             1345\n",
       "mountain view - lead generation - cooing 4                                           1310\n",
       "sodic - lead generation - new - cooing 2                                             1281\n",
       "dev_-_palm_hills                                                                     1113\n",
       "emaar - lead generation - cooing 4 - new                                              994\n",
       "dev_-_dorra                                                                           990\n",
       "palm hills - lead generation - cooing 3 - new                                         966\n",
       "palm hills - lead generation - cooing 2 - new                                         952\n",
       "sodic - lead generation - new - cooing 4                                              884\n",
       "city edge - lead generation                                                           868\n",
       "tatweer misr - lead generation - cooing 2 - new                                       795\n",
       "dev_-_ora                                                                             771\n",
       "al-futtaim group real estate - lead generation - cooing 2                             766\n",
       "dev_-_mountain_view_ar                                                                763\n",
       "emaar misr - lead generation - new                                                    757\n",
       "palm hills - lead generation - cooing 4 - new                                         746\n",
       "dorra group - lead generation - cooing 2                                              726\n",
       "dev_-_orascom                                                                         715\n",
       "dev_-_emaar_misr                                                                      685\n",
       "palm hills - lead generation - new - cooing 1                                         678\n",
       "dev_-_sodic                                                                           669\n",
       "dev_-_mountain_view                                                                   666\n",
       "inertia - lead generation                                                             665\n",
       "                                                                                    ...  \n",
       "dev+-+sodic                                                                             1\n",
       "il monte galalasms                                                                      1\n",
       "discovertheloft,                                                                        1\n",
       "dev%20-%20al%20ahly%20for%20real%20estate                                               1\n",
       "inertia egypt - lead generation                                                         1\n",
       "nawy - video views - brand awareness video - cutdown                                    1\n",
       "sodic                                                                                   1\n",
       "merna-_dev-_kinda                                                                       1\n",
       "mountain view lookalike                                                                 1\n",
       "dev_-_amazon_holding                                                                    1\n",
       "dev-_kinda_-_no_placments                                                               1\n",
       "google capital group properties                                                         1\n",
       "generic new cairo - new - lead generation - cooing 3                                    1\n",
       "both_inmail/lead_$833.33                                                                1\n",
       "dev - minka lead generation                                                             1\n",
       "ilmontgalal                                                                             1\n",
       "north_edge_custom_intent_english                                                        1\n",
       "abdelazimosman-39775                                                                    1\n",
       "palm hills new cairo 12 years                                                           1\n",
       "arkan palm - lead generation - cooing 5                                                 1\n",
       "badreldin - lead generation - cooing 3                                                  1\n",
       "silver sands                                                                            1\n",
       "remarketing                                                                             1\n",
       "tarekatefshahin-14337                                                                   1\n",
       "sms                                                                                     1\n",
       "new giza resale - lead generation - cooing 4                                            1\n",
       "silversands                                                                             1\n",
       "khozam developments                                                                     1\n",
       "a/b testing may 2022 - il bosco city - lead generation - cooing 1 - no targeting        1\n",
       "urbnlanes                                                                               1\n",
       "Name: campaign, Length: 761, dtype: int64"
      ]
     },
     "execution_count": 10,
     "metadata": {},
     "output_type": "execute_result"
    }
   ],
   "source": [
    "df['campaign'].value_counts()"
   ]
  },
  {
   "cell_type": "code",
   "execution_count": 11,
   "metadata": {},
   "outputs": [
    {
     "data": {
      "text/plain": [
       "none                                                                                            12962\n",
       "marassi                                                                                          3402\n",
       "mountain view october apartments                                                                 2521\n",
       "badya                                                                                            1836\n",
       "palm hills new cairo                                                                             1829\n",
       "il bosco city                                                                                    1769\n",
       "sodic east                                                                                       1519\n",
       "zed east                                                                                         1504\n",
       "al burouj                                                                                        1328\n",
       "jefaira                                                                                          1236\n",
       "address east                                                                                     1186\n",
       "the gate                                                                                         1162\n",
       "belle vie                                                                                        1109\n",
       "village west                                                                                     1106\n",
       "v residence                                                                                      1021\n",
       "cairo gate                                                                                        888\n",
       "noor city                                                                                         859\n",
       "eastown                                                                                           851\n",
       "aura cfc                                                                                          844\n",
       "zed                                                                                               814\n",
       "o west                                                                                            795\n",
       "hacienda west                                                                                     769\n",
       "mountain view icity october                                                                       764\n",
       "d bay                                                                                             736\n",
       "june                                                                                              699\n",
       "telal sokhna                                                                                      671\n",
       "mostakbal city villa offer                                                                        645\n",
       "zed west                                                                                          638\n",
       "taj ville                                                                                         632\n",
       "new cairo                                                                                         628\n",
       "                                                                                                ...  \n",
       "العين السخنة palm beach                                                                             1\n",
       "lavista sahel                                                                                       1\n",
       "lakeview                                                                                            1\n",
       "waterway new capital typical apartment                                                              1\n",
       "eastown residence, new cairo                                                                        1\n",
       "the estates large villa                                                                             1\n",
       "mountain view - i city                                                                              1\n",
       "kinda- maple apartment                                                                              1\n",
       "vinci - new capital - vinci - new capital-townhouse                                                 1\n",
       "telal north coast/hacienda west                                                                     1\n",
       "sawary - alexandria - صواري - sawary - apartment type 1                                             1\n",
       "الساحل الشمالي stella marina                                                                        1\n",
       "orion - al burouj                                                                                   1\n",
       "lasirena sokhna resort                                                                              1\n",
       "https://www.nawy.com/compound/71-la-vista-cascada                                                   1\n",
       "شركه مصر للتنميه السياحيه - misr tourism development company                                        1\n",
       "il monte galala elara                                                                               1\n",
       "el mostakbal                                                                                        1\n",
       "midtown - new capital - condo                                                                       1\n",
       "palm hills cash offer                                                                               1\n",
       "marakez october                                                                                     1\n",
       "sawari/palm hills alexandria                                                                        1\n",
       "o west orascom - tulwa - apartment                                                                  1\n",
       "other                                                                                               1\n",
       "icity lagoon                                                                                        1\n",
       "scene 7                                                                                             1\n",
       "axis x                                                                                              1\n",
       "https://www.nawy.com/search?area=1                                                                  1\n",
       "properties in mazarine new alamein?gclid=cjwkcajwydp5brbreiwa-qrcgrqab0cwvczpiupvkcq9xvjq           1\n",
       "mountain view - icity - october - mountain view - icity - october - i villa mountain edition        1\n",
       "Name: location, Length: 3146, dtype: int64"
      ]
     },
     "execution_count": 11,
     "metadata": {},
     "output_type": "execute_result"
    }
   ],
   "source": [
    "df['location'].value_counts()"
   ]
  },
  {
   "cell_type": "code",
   "execution_count": 12,
   "metadata": {},
   "outputs": [
    {
     "data": {
      "text/plain": [
       "0                             75136\n",
       "1                             15985\n",
       "none                              3\n",
       "address east                      1\n",
       "club residences                   1\n",
       "ora                               1\n",
       "newshunt360.com                   1\n",
       "mountain view ras el hekma        1\n",
       "Name: low_qualified, dtype: int64"
      ]
     },
     "execution_count": 12,
     "metadata": {},
     "output_type": "execute_result"
    }
   ],
   "source": [
    "df['low_qualified'].value_counts()"
   ]
  },
  {
   "cell_type": "markdown",
   "metadata": {},
   "source": [
    "# from this quick eploration of the dataset i get some notes :\n",
    "- ### there is wrong columns  'unnamed: 11' , 'unnamed: 12'\n",
    "- ### lead_time column have wrong datatype \n",
    "- ### low_qualified also have wrong datatype and some wrong values like ('ora')\n",
    "- ### lead_source and method_of_contract have duplicated values in many froms like ( facebook , fb , fb page )\n",
    "- "
   ]
  },
  {
   "cell_type": "code",
   "execution_count": null,
   "metadata": {
    "collapsed": true
   },
   "outputs": [],
   "source": []
  }
 ],
 "metadata": {
  "kernelspec": {
   "display_name": "Python 3",
   "language": "python",
   "name": "python3"
  },
  "language_info": {
   "codemirror_mode": {
    "name": "ipython",
    "version": 3
   },
   "file_extension": ".py",
   "mimetype": "text/x-python",
   "name": "python",
   "nbconvert_exporter": "python",
   "pygments_lexer": "ipython3",
   "version": "3.6.2"
  }
 },
 "nbformat": 4,
 "nbformat_minor": 2
}
